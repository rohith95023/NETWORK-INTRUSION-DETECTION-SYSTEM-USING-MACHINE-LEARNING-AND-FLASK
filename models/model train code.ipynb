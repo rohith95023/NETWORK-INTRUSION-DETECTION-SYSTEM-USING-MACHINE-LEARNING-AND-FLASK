{
 "cells": [
  {
   "cell_type": "code",
   "execution_count": null,
   "id": "e1d562ab-63b8-45e9-a248-dda71bd7fe65",
   "metadata": {},
   "outputs": [],
   "source": []
  },
  {
   "cell_type": "code",
   "execution_count": null,
   "id": "80fd5de2-e414-457f-aa67-d30141d71618",
   "metadata": {},
   "outputs": [],
   "source": []
  },
  {
   "cell_type": "code",
   "execution_count": 5,
   "id": "e3b2167e-d48a-411b-aa1e-500bf712a1f5",
   "metadata": {},
   "outputs": [
    {
     "name": "stdout",
     "output_type": "stream",
     "text": [
      "Accuracy: 19.93%\n",
      "              precision    recall  f1-score   support\n",
      "\n",
      "           0       0.20      0.23      0.22      6037\n",
      "           1       0.21      0.20      0.20      5955\n",
      "           2       0.20      0.20      0.20      6045\n",
      "           3       0.20      0.19      0.19      5989\n",
      "           4       0.19      0.17      0.18      5974\n",
      "\n",
      "    accuracy                           0.20     30000\n",
      "   macro avg       0.20      0.20      0.20     30000\n",
      "weighted avg       0.20      0.20      0.20     30000\n",
      "\n"
     ]
    }
   ],
   "source": [
    "import pandas as pd\n",
    "from sklearn.model_selection import train_test_split\n",
    "from sklearn.preprocessing import LabelEncoder\n",
    "from sklearn.ensemble import RandomForestClassifier\n",
    "from sklearn.metrics import classification_report, accuracy_score\n",
    "import joblib\n",
    "import os\n",
    "\n",
    "# Load the dataset (replace with your actual dataset)\n",
    "dataset = pd.read_csv('your_data.csv')\n",
    "\n",
    "# Split the dataset into features (X) and target (y)\n",
    "X = dataset.drop('label', axis=1)  # assuming 'label' is the target column\n",
    "y = dataset['label']\n",
    "\n",
    "# Initialize LabelEncoder for the target column\n",
    "label_encoder = LabelEncoder()\n",
    "y = label_encoder.fit_transform(y)  # Encode the target labels\n",
    "\n",
    "# Split the data into training and testing sets\n",
    "X_train, X_test, y_train, y_test = train_test_split(X, y, test_size=0.3, random_state=42)\n",
    "\n",
    "# Initialize LabelEncoders for categorical columns\n",
    "protocol_type_encoder = LabelEncoder()\n",
    "service_encoder = LabelEncoder()\n",
    "flag_encoder = LabelEncoder()\n",
    "\n",
    "# Encode categorical columns in the training set\n",
    "X_train['protocol_type'] = protocol_type_encoder.fit_transform(X_train['protocol_type'])\n",
    "X_train['service'] = service_encoder.fit_transform(X_train['service'])\n",
    "X_train['flag'] = flag_encoder.fit_transform(X_train['flag'])\n",
    "\n",
    "# Transform categorical columns in the testing set (without refitting)\n",
    "X_test['protocol_type'] = protocol_type_encoder.transform(X_test['protocol_type'])\n",
    "X_test['service'] = service_encoder.transform(X_test['service'])\n",
    "X_test['flag'] = flag_encoder.transform(X_test['flag'])\n",
    "\n",
    "# Initialize the RandomForestClassifier\n",
    "model = RandomForestClassifier(n_estimators=100, random_state=42)\n",
    "\n",
    "# Train the model\n",
    "model.fit(X_train, y_train)\n",
    "\n",
    "# Predict on the test data\n",
    "y_pred = model.predict(X_test)\n",
    "\n",
    "# Evaluate the model\n",
    "accuracy = accuracy_score(y_test, y_pred)\n",
    "print(f'Accuracy: {accuracy * 100:.2f}%')\n",
    "print(classification_report(y_test, y_pred))\n",
    "\n",
    "# Ensure the 'models' directory exists\n",
    "if not os.path.exists('models'):\n",
    "    os.makedirs('models')\n",
    "\n",
    "# Save the trained model\n",
    "joblib.dump(model, 'models/network_intrusion_model.pkl')\n",
    "\n",
    "# Save the label encoders\n",
    "joblib.dump(protocol_type_encoder, 'models/protocol_type_encoder.pkl')\n",
    "joblib.dump(service_encoder, 'models/service_encoder.pkl')\n",
    "joblib.dump(flag_encoder, 'models/flag_encoder.pkl')\n",
    "joblib.dump(label_encoder, 'models/label_encoder.pkl')\n",
    "\n",
    "# Optionally, save the processed data for later use\n",
    "X_train.to_csv('processed_X_train.csv', index=False)\n",
    "X_test.to_csv('processed_X_test.csv', index=False)\n",
    "pd.DataFrame(y_train, columns=['label']).to_csv('processed_y_train.csv', index=False)\n",
    "pd.DataFrame(y_test, columns=['label']).to_csv('processed_y_test.csv', index=False)\n"
   ]
  },
  {
   "cell_type": "code",
   "execution_count": null,
   "id": "e2643e6b-426d-41ea-9fd1-2199ff5e76c0",
   "metadata": {},
   "outputs": [],
   "source": []
  }
 ],
 "metadata": {
  "kernelspec": {
   "display_name": "Python 3 (ipykernel)",
   "language": "python",
   "name": "python3"
  },
  "language_info": {
   "codemirror_mode": {
    "name": "ipython",
    "version": 3
   },
   "file_extension": ".py",
   "mimetype": "text/x-python",
   "name": "python",
   "nbconvert_exporter": "python",
   "pygments_lexer": "ipython3",
   "version": "3.12.5"
  }
 },
 "nbformat": 4,
 "nbformat_minor": 5
}
